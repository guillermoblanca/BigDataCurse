{
 "cells": [
  {
   "cell_type": "markdown",
   "id": "76d43265",
   "metadata": {},
   "source": [
    "# Ejercicio de Piedra, papel y tijeras. \n",
    "\n",
    "En este ejercicio es un ejercicio para hacer pruebas con condicionales. En python multiples condiciones con multilinea deben contener al final \\ para indicar que continua"
   ]
  },
  {
   "cell_type": "code",
   "execution_count": 23,
   "id": "7fa801c1",
   "metadata": {},
   "outputs": [
    {
     "name": "stdout",
     "output_type": "stream",
     "text": [
      "Computers's choice: scissors\n",
      "User's choice scissors\n",
      "Tie!\n"
     ]
    }
   ],
   "source": [
    "import random\n",
    "\n",
    "def play_game() :\n",
    "    choices = ['rock', 'paper', 'scissors']\n",
    "    computer_choice = random.choice(choices)\n",
    "    user_choice = input(\"Enter your choice (rock/paper/scissors): \").lower()\n",
    "\n",
    "    print(f\"Computers's choice: {computer_choice}\")\n",
    "    print(f\"User's choice {user_choice}\")\n",
    "\n",
    "    if user_choice not in choices:\n",
    "        print(\"Invalid choice!\")\n",
    "        return\n",
    "\n",
    "    if user_choice == computer_choice:\n",
    "        print(\"Tie!\")\n",
    "\n",
    "    elif (user_choice == 'rock' and computer_choice == 'paper') or \\\n",
    "         (user_choice == 'scissors' and computer_choise == 'rock') or \\\n",
    "         (user_choice == 'paper' and computer_choise == 'scissors'):\n",
    "        print(\"You lose!\")\n",
    "    else:\n",
    "        print(\"You win?\")\n",
    "\n",
    "\n",
    "play_game()"
   ]
  }
 ],
 "metadata": {
  "kernelspec": {
   "display_name": "research_env",
   "language": "python",
   "name": "python3"
  },
  "language_info": {
   "codemirror_mode": {
    "name": "ipython",
    "version": 3
   },
   "file_extension": ".py",
   "mimetype": "text/x-python",
   "name": "python",
   "nbconvert_exporter": "python",
   "pygments_lexer": "ipython3",
   "version": "3.11.11"
  }
 },
 "nbformat": 4,
 "nbformat_minor": 5
}
