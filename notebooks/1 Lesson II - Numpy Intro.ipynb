{
 "cells": [
  {
   "cell_type": "markdown",
   "metadata": {},
   "source": [
    "# Intro to Numpy\n",
    "\n",
    "![](https://www.freecodecamp.org/espanol/news/content/images/2021/04/numpy-1-1-.png)\n",
    "\n",
    "### ¿Qué es numpy?\n",
    "\n",
    "Numpy es una biblioteca en Python que **permite realizar operaciones matemáticas avanzadas de forma eficiente** con estructuras de datos de alto rendimiento, principalmente **arrays**.\n",
    "\n",
    "### ¿Por qué usar numpy?\n",
    "\n",
    "Usar numpy sobre las listas de Python tiene una serie de ventajas como la **rapidez y la eficiencia** en operaciones matemáticas y de matriz. Además, numpy es una biblioteca muy popular y ampliamente utilizada en el campo de la **ciencia de datos** y el aprendizaje automático. **Es la base** de muchas otras bibliotecas de Python como **pandas, scikit-learn**...\n",
    "\n",
    "### ¿Cómo instalar numpy?\n",
    "\n",
    "Para instalar numpy, simplemente ejecuta el siguiente comando en tu terminal:\n",
    "\n",
    "```bash\n",
    "$ pip install numpy==<numpy_version>\n",
    "```"
   ]
  },
  {
   "cell_type": "markdown",
   "metadata": {},
   "source": [
    "## Conceptos Básicos de Numpy\n",
    "\n",
    "A continuación, vamos a ver algunos conceptos básicos de numpy, primero debemos importar la librería:"
   ]
  },
  {
   "cell_type": "code",
   "execution_count": 33,
   "metadata": {},
   "outputs": [],
   "source": [
    "# import numpy\n",
    "\n",
    "import numpy as np"
   ]
  },
  {
   "cell_type": "markdown",
   "metadata": {},
   "source": [
    "### Crear un array\n",
    "\n",
    "Numpy gira en torno a un objeto llamado **`array`** que es una **matriz multidimensional de elementos del mismo tipo**. \n",
    "\n",
    "💡 Para crear un array, puedes usar la función **`np.array()`** y pasar una lista de elementos como argumento."
   ]
  },
  {
   "cell_type": "code",
   "execution_count": 34,
   "metadata": {},
   "outputs": [
    {
     "data": {
      "text/plain": [
       "array([1, 2])"
      ]
     },
     "execution_count": 34,
     "metadata": {},
     "output_type": "execute_result"
    }
   ],
   "source": [
    "my_list = [1, 2]\n",
    "my_array = np.array(my_list)\n",
    "my_array"
   ]
  },
  {
   "cell_type": "markdown",
   "metadata": {},
   "source": [
    "💡 También podemos crear arrays de ceros (`np.zeros()`), de unos (`np.ones()`), y con valores constantes específicos utilizando `np.full()`. "
   ]
  },
  {
   "cell_type": "code",
   "execution_count": 35,
   "metadata": {},
   "outputs": [
    {
     "data": {
      "text/plain": [
       "array([7, 7, 7, 7, 7])"
      ]
     },
     "execution_count": 35,
     "metadata": {},
     "output_type": "execute_result"
    }
   ],
   "source": [
    "my_array_with_zeros = np.zeros(5)  # 5 zeros\n",
    "my_array_with_zeros\n",
    "my_array_with_ones = np.ones(5)  # 5 ones\n",
    "my_array_with_ones\n",
    "my_array_with_sevens = np.full(5, 7)  # 5 sevens\n",
    "my_array_with_sevens"
   ]
  },
  {
   "cell_type": "markdown",
   "metadata": {},
   "source": [
    "💡 Podemos crear secuencias de números consecutivos usando `np.arange()` o `np.linspace()`. También podemos crear arrays de números aleatorios usando `np.random.rand()`."
   ]
  },
  {
   "cell_type": "code",
   "execution_count": 36,
   "metadata": {},
   "outputs": [
    {
     "data": {
      "text/plain": [
       "array([0. , 0.5, 1. , 1.5, 2. ])"
      ]
     },
     "execution_count": 36,
     "metadata": {},
     "output_type": "execute_result"
    }
   ],
   "source": [
    "np.arange(5)  # 0, 1, 2, 3, 4\n",
    "np.linspace(0, 2, 5)  # 0, 0.5, 1, 1.5, 2"
   ]
  },
  {
   "cell_type": "markdown",
   "metadata": {},
   "source": [
    "### El tipo de datos de un array\n",
    "\n",
    "Recuerda que los arrays de numpy tienen un **tipo de datos** asociado. Puedes especificar el tipo de datos al crear un array o numpy intentará inferirlo automáticamente. Es muy importante tener en cuenta el tipo de datos de un array, ya que puede afectar a la precisión de los cálculos y al uso de la memoria. Los tipos principales son:\n",
    "\n",
    "- **`int`**: Número entero\n",
    "  - **`int8`**: Entero de 8 bits: -128 a 127\n",
    "  - **`int16`**: Entero de 16 bits: -2^15 a 2^15-1\n",
    "  - **`int32`**: Entero de 32 bits: -2^31 a 2^31-1\n",
    "  - **`int64`**: Entero de 64 bits: -2^63 a 2^63-1\n",
    "- **`float`**: Número con decimales (coma flotante)\n",
    "  - **`float16`**: Número de coma flotante de 16 bits\n",
    "  - **`float32`**: Número de coma flotante de 32 bits\n",
    "  - **`float64`**: Número de coma flotante de 64 bits \n",
    "- **`bool`**: Booleano\n",
    "- **`string`**: Cadena de texto\n",
    "- **`object`**: Objeto de Python\n",
    "\n",
    "Dentro de los `int` y `float`, también puedes especificar si quieres que sean **signed** o **unsigned**. Por ejemplo, `uint8` es un entero sin signo de 8 bits. Es decir, alberga valores de 0 a 255 (2^8-1). Un caso clásico de un array de tipo `uint8` es una imagen en escala de grises, donde cada píxel tiene un valor entre 0 y 255. El 0 representa el color negro y el 255 el blanco.\n",
    "\n",
    "💡 En numpy podemos ver el tipo de un array usando el método `.dtype`"
   ]
  },
  {
   "cell_type": "code",
   "execution_count": 37,
   "metadata": {},
   "outputs": [
    {
     "data": {
      "text/plain": [
       "dtype('int64')"
      ]
     },
     "execution_count": 37,
     "metadata": {},
     "output_type": "execute_result"
    }
   ],
   "source": [
    "my_array_with_sevens.dtype"
   ]
  },
  {
   "cell_type": "markdown",
   "metadata": {},
   "source": [
    "💡 También podemos cambiar el tipo de un array usando el método `.astype()`"
   ]
  },
  {
   "cell_type": "code",
   "execution_count": 38,
   "metadata": {},
   "outputs": [
    {
     "data": {
      "text/plain": [
       "dtype('float64')"
      ]
     },
     "execution_count": 38,
     "metadata": {},
     "output_type": "execute_result"
    }
   ],
   "source": [
    "my_array_with_sevens.astype(float).dtype"
   ]
  },
  {
   "cell_type": "markdown",
   "metadata": {},
   "source": [
    "### La Forma de un Array (a.k.a. Shape)\n",
    "\n",
    "La \"forma\" de un array en numpy es un concepto fundamental que **describe las dimensiones del array**. Se refiere al **número de elementos en cada dimensión** y se representa por una tupla de enteros. Cada número en esta tupla indica el tamaño del array en esa dimensión. Por ejemplo, un array de una dimensión (un vector) con 4 elementos tendría una forma de (4,), mientras que un array de dos dimensiones (una matriz) con 3 filas y 5 columnas tendría una forma de (3, 5).\n",
    "\n",
    "![](https://pbs.twimg.com/media/FD1qSBqVgAg7078.jpg:large)\n",
    "\n",
    "* Un **vector**, que es un array de una sola dimensión, podría tener una forma (n,) donde n es el número de elementos en el vector.\n",
    "* Una **matriz**, que es un array de dos dimensiones, podría tener una forma (m, n) donde m es el número de filas y n el número de columnas.\n",
    "* Un **tensor**, que es un array de tres dimensiones, a menudo utilizado en ciencias de datos para representar conjuntos de imágenes o datos espaciotemporales, podría tener una forma (p, m, n) donde p representa un conjunto de matrices de dimensiones m x n.\n",
    "\n",
    "💡 La propiedad `.shape` de un objeto numpy array se puede utilizar para obtener la forma actual del array:"
   ]
  },
  {
   "cell_type": "code",
   "execution_count": 39,
   "metadata": {},
   "outputs": [
    {
     "data": {
      "text/plain": [
       "(2, 6)"
      ]
     },
     "execution_count": 39,
     "metadata": {},
     "output_type": "execute_result"
    }
   ],
   "source": [
    "np.zeros((2, 6)).shape"
   ]
  },
  {
   "cell_type": "markdown",
   "metadata": {},
   "source": [
    "💡 Es posible modificar la forma de un array usando el método `.reshape()`."
   ]
  },
  {
   "cell_type": "code",
   "execution_count": 40,
   "metadata": {},
   "outputs": [
    {
     "data": {
      "text/plain": [
       "array([[0., 0., 0.],\n",
       "       [0., 0., 0.]])"
      ]
     },
     "execution_count": 40,
     "metadata": {},
     "output_type": "execute_result"
    }
   ],
   "source": [
    "my_matrix = np.zeros(6).reshape((2, 3))\n",
    "my_matrix"
   ]
  },
  {
   "cell_type": "markdown",
   "metadata": {},
   "source": [
    "💡 También podemos \"aplanar\" un array (convertirlo a un vector) usando `.flatten()`"
   ]
  },
  {
   "cell_type": "code",
   "execution_count": 41,
   "metadata": {},
   "outputs": [
    {
     "data": {
      "text/plain": [
       "array([0., 0., 0., 0., 0., 0.])"
      ]
     },
     "execution_count": 41,
     "metadata": {},
     "output_type": "execute_result"
    }
   ],
   "source": [
    "my_matrix.flatten()  # from 2D to 1D"
   ]
  },
  {
   "cell_type": "markdown",
   "metadata": {},
   "source": [
    "## Operaciones Básicas\n",
    "\n",
    "Podemos **sumar, restar, multiplicar y dividir** arrays de numpy de la misma forma que lo haríamos con números. ⚠️ Es importante tener en cuenta que estas operaciones se realizan **elemento a elemento**, por lo que **ambos arrays deben tener la misma forma.**"
   ]
  },
  {
   "cell_type": "code",
   "execution_count": 42,
   "metadata": {},
   "outputs": [
    {
     "data": {
      "text/plain": [
       "array([2., 2., 2., 2., 2.])"
      ]
     },
     "execution_count": 42,
     "metadata": {},
     "output_type": "execute_result"
    }
   ],
   "source": [
    "my_array_with_ones + 2  # array of 3s\n",
    "my_array_with_ones - 2  # array of -1s\n",
    "my_array_with_ones / 2  # array of 0.5s\n",
    "my_array_with_ones * 2  # array of 2s"
   ]
  },
  {
   "cell_type": "markdown",
   "metadata": {},
   "source": [
    "💡 También podemos aplicar funciones matemáticas a un array de numpy, como **`np.sin()`, `np.cos()`, `np.exp()`, `np.log()`**..."
   ]
  },
  {
   "cell_type": "code",
   "execution_count": 43,
   "metadata": {},
   "outputs": [
    {
     "data": {
      "text/plain": [
       "array([ 1.        ,  0.54030231, -0.41614684])"
      ]
     },
     "execution_count": 43,
     "metadata": {},
     "output_type": "execute_result"
    }
   ],
   "source": [
    "my_array = np.arange(3)\n",
    "np.cos(my_array)"
   ]
  },
  {
   "cell_type": "markdown",
   "metadata": {},
   "source": [
    "## Agregación y Estadísticas\n",
    "\n",
    "Numpy proporciona una serie de funciones para realizar **operaciones de agregación y estadísticas** en arrays. Algunas de las más comunes son:\n",
    "\n",
    "- **`np.sum()`**: Suma de todos los elementos del array\n",
    "- **`np.mean()`**: Media de los elementos del array\n",
    "- **`np.median()`**: Mediana de los elementos del array\n",
    "- **`np.min()`**: Valor mínimo del array\n",
    "- **`np.max()`**: Valor máximo del array"
   ]
  },
  {
   "cell_type": "code",
   "execution_count": 44,
   "metadata": {},
   "outputs": [
    {
     "data": {
      "text/plain": [
       "array([ 7,  8,  9, 10, 11])"
      ]
     },
     "execution_count": 44,
     "metadata": {},
     "output_type": "execute_result"
    }
   ],
   "source": [
    "my_array = np.arange(5)\n",
    "my_array += 7\n",
    "my_array"
   ]
  },
  {
   "cell_type": "code",
   "execution_count": 45,
   "metadata": {},
   "outputs": [
    {
     "data": {
      "text/plain": [
       "np.int64(7)"
      ]
     },
     "execution_count": 45,
     "metadata": {},
     "output_type": "execute_result"
    }
   ],
   "source": [
    "np.sum(my_array)  # 45\n",
    "np.median(my_array)  # 9.0\n",
    "np.max(my_array)  # 11\n",
    "np.min(my_array)  # 7"
   ]
  },
  {
   "cell_type": "markdown",
   "metadata": {},
   "source": [
    "💡 También podemos calcular la posición del elemento máximo usando **`np.argmax()`** o **`np.argmin()`**"
   ]
  },
  {
   "cell_type": "code",
   "execution_count": 46,
   "metadata": {},
   "outputs": [
    {
     "data": {
      "text/plain": [
       "np.int64(0)"
      ]
     },
     "execution_count": 46,
     "metadata": {},
     "output_type": "execute_result"
    }
   ],
   "source": [
    "np.argmax(my_array)  # 4\n",
    "np.argmin(my_array)  # 0"
   ]
  },
  {
   "cell_type": "markdown",
   "metadata": {},
   "source": [
    "## Array Slicing\n",
    "\n",
    "Al igual que en las listas de Python, podemos **acceder a elementos individuales o a subconjuntos de elementos** en un array de numpy utilizando la técnica de **slicing**. Para ello, podemos utilizar la notación de corchetes y dos puntos `:`."
   ]
  },
  {
   "cell_type": "code",
   "execution_count": 47,
   "metadata": {},
   "outputs": [
    {
     "data": {
      "text/plain": [
       "array([[ 0,  1,  2,  3],\n",
       "       [ 4,  5,  6,  7],\n",
       "       [ 8,  9, 10, 11],\n",
       "       [12, 13, 14, 15]])"
      ]
     },
     "execution_count": 47,
     "metadata": {},
     "output_type": "execute_result"
    }
   ],
   "source": [
    "my_matrix = np.arange(16).reshape((4, 4))\n",
    "my_matrix"
   ]
  },
  {
   "cell_type": "code",
   "execution_count": 48,
   "metadata": {},
   "outputs": [
    {
     "data": {
      "text/plain": [
       "array([[0, 1, 2],\n",
       "       [4, 5, 6]])"
      ]
     },
     "execution_count": 48,
     "metadata": {},
     "output_type": "execute_result"
    }
   ],
   "source": [
    "# tomamos las primeras dos filas y las primeras tres columnas\n",
    "my_matrix[:2, :3]"
   ]
  },
  {
   "cell_type": "markdown",
   "metadata": {},
   "source": [
    "## Array Masking\n",
    "\n",
    "El **enmascaramiento de arrays** es una técnica que nos permite **filtrar** los elementos de un array basándonos en una **condición lógica**. Por ejemplo, podemos seleccionar todos los elementos de un array que sean mayores que un cierto valor, o que cumplan una determinada condición. Esto será especialmente útil cuando trabajemos con tablas de datos y queramos filtrar filas o columnas basándonos en ciertas condiciones."
   ]
  },
  {
   "cell_type": "code",
   "execution_count": 49,
   "metadata": {},
   "outputs": [
    {
     "data": {
      "text/plain": [
       "array([15, 16, 17, 18, 19, 20, 21, 22])"
      ]
     },
     "execution_count": 49,
     "metadata": {},
     "output_type": "execute_result"
    }
   ],
   "source": [
    "ages = np.arange(8) + 15\n",
    "ages"
   ]
  },
  {
   "cell_type": "code",
   "execution_count": 50,
   "metadata": {},
   "outputs": [
    {
     "data": {
      "text/plain": [
       "array([False, False, False,  True,  True,  True,  True,  True])"
      ]
     },
     "execution_count": 50,
     "metadata": {},
     "output_type": "execute_result"
    }
   ],
   "source": [
    "mask = ages >= 18\n",
    "mask"
   ]
  },
  {
   "cell_type": "markdown",
   "metadata": {},
   "source": [
    "Para crear un array nuevo aplicando un condicional puedo usar `np.where()`."
   ]
  },
  {
   "cell_type": "code",
   "execution_count": 51,
   "metadata": {},
   "outputs": [
    {
     "data": {
      "text/plain": [
       "array([ 0,  0,  0, 18, 19, 20, 21, 22])"
      ]
     },
     "execution_count": 51,
     "metadata": {},
     "output_type": "execute_result"
    }
   ],
   "source": [
    "np.where(mask, ages, 0)"
   ]
  },
  {
   "cell_type": "markdown",
   "metadata": {},
   "source": [
    "## 💪 Ejercicios\n",
    "\n",
    "A continuación, te propongo algunos ejercicios para que practiques tus habilidades con numpy"
   ]
  },
  {
   "cell_type": "markdown",
   "metadata": {},
   "source": [
    "### Ejercicio I: The Alien Invasion\n",
    "\n",
    "El ejercicio original puede encontrarse [aquí](https://matesanz.github.io/python-machine-learning-course/%F0%9F%A7%AA-Exercises/the-alien-invasion/).\n",
    "\n",
    "\n",
    "The transmission is an matrix (an array) which contains data for each spaceship. Every line represents one spaceship, with values in the order of: length (in meters), width (in meters), height (in meters), speed (in km/s), and weapon power (on a scale of 1-10)."
   ]
  },
  {
   "cell_type": "code",
   "execution_count": 52,
   "metadata": {},
   "outputs": [],
   "source": [
    "import numpy as np\n",
    "\n",
    "\n",
    "fleet_data = np.array([\n",
    "    [120, 40, 25, 2.5, 10],\n",
    "    [85, 60, 30, 5.0, 5],\n",
    "    [100, 50, 35, 4.5, 7],\n",
    "    [120, 40, 25, 2.5, 9],\n",
    "    [150, 50, 30, 3.0, 10],\n",
    "], dtype=np.float32)"
   ]
  },
  {
   "cell_type": "code",
   "execution_count": 53,
   "metadata": {},
   "outputs": [
    {
     "data": {
      "text/plain": [
       "'Total number of spaceships: 5'"
      ]
     },
     "execution_count": 53,
     "metadata": {},
     "output_type": "execute_result"
    }
   ],
   "source": [
    "# Calculate and print the total number of spaceships.\n",
    "\n",
    "fleet_length = fleet_data.shape[0]\n",
    "fleet_length = len(fleet_data)\n",
    "f\"Total number of spaceships: {fleet_length}\""
   ]
  },
  {
   "cell_type": "code",
   "execution_count": 54,
   "metadata": {},
   "outputs": [
    {
     "data": {
      "text/plain": [
       "'Average spaceship volume: 158600.0 m3'"
      ]
     },
     "execution_count": 54,
     "metadata": {},
     "output_type": "execute_result"
    }
   ],
   "source": [
    "# Calculate and print the average spaceship size (volume).\n",
    "\n",
    "lengths = fleet_data[:, 0]\n",
    "lengths\n",
    "widths = fleet_data[:, 1]\n",
    "widths\n",
    "heights = fleet_data[:, 2]\n",
    "heights\n",
    "\n",
    "volumes = lengths * widths * heights\n",
    "mean_volume = np.mean(volumes)\n",
    "f\"Average spaceship volume: {mean_volume} m3\""
   ]
  },
  {
   "cell_type": "code",
   "execution_count": 55,
   "metadata": {},
   "outputs": [
    {
     "data": {
      "text/plain": [
       "'Speed of the fastest spaceship: 5.0 km/s'"
      ]
     },
     "execution_count": 55,
     "metadata": {},
     "output_type": "execute_result"
    }
   ],
   "source": [
    "# Identify and print the speed of the fastest spaceship.\n",
    "\n",
    "speeds = fleet_data[:, 3]\n",
    "max_speed = np.max(speeds)\n",
    "\n",
    "f\"Speed of the fastest spaceship: {max_speed} km/s\""
   ]
  },
  {
   "cell_type": "code",
   "execution_count": 56,
   "metadata": {},
   "outputs": [
    {
     "data": {
      "text/plain": [
       "'Number of spaceships with the maximum weapon power: 2'"
      ]
     },
     "execution_count": 56,
     "metadata": {},
     "output_type": "execute_result"
    }
   ],
   "source": [
    "# Determine and print the number of spaceships with the maximum weapon power.\n",
    "\n",
    "weapon_power = fleet_data[:, 4]\n",
    "max_power_mask = weapon_power == np.max(weapon_power) #Cogemos el valor maximo de poder de las naves (10) sustituyo el ejemplo real hardcodeado por \n",
    "ships_with_max_power = fleet_data[max_power_mask]\n",
    "n_spaceships_with_max_power = len(ships_with_max_power)\n",
    "f\"Number of spaceships with the maximum weapon power: {n_spaceships_with_max_power}\""
   ]
  },
  {
   "cell_type": "code",
   "execution_count": 57,
   "metadata": {},
   "outputs": [
    {
     "name": "stdout",
     "output_type": "stream",
     "text": [
      "[2.5 3. ]\n"
     ]
    },
    {
     "data": {
      "text/plain": [
       "'Mean speed of spaceships with the maximum weapon power: 2.75 km/s'"
      ]
     },
     "execution_count": 57,
     "metadata": {},
     "output_type": "execute_result"
    }
   ],
   "source": [
    "# Find and print the mean speed of spaceships with the maximum weapon power.\n",
    "\n",
    "speeds_of_ships_with_max_power = speeds[max_power_mask]\n",
    "mean_speed_of_ships_with_max_power = np.mean(speeds_of_ships_with_max_power)\n",
    "f\"Mean speed of spaceships with the maximum weapon power: {mean_speed_of_ships_with_max_power} km/s\""
   ]
  },
  {
   "cell_type": "markdown",
   "metadata": {},
   "source": [
    "### Ejercicio III: Crea un Tres en Raya\n",
    "\n",
    "To try out your new skills, try to create a TicTacToe game using Numpy arrays. Fill the functions below to create a game that can be played by two players."
   ]
  },
  {
   "cell_type": "code",
   "execution_count": 84,
   "metadata": {},
   "outputs": [
    {
     "data": {
      "text/plain": [
       "array([[0., 0., 0.],\n",
       "       [0., 0., 0.],\n",
       "       [0., 0., 0.]])"
      ]
     },
     "execution_count": 84,
     "metadata": {},
     "output_type": "execute_result"
    }
   ],
   "source": [
    "board = np.zeros((3,3))\n",
    "board"
   ]
  }
 ],
 "metadata": {
  "kernelspec": {
   "display_name": "research_env",
   "language": "python",
   "name": "python3"
  },
  "language_info": {
   "codemirror_mode": {
    "name": "ipython",
    "version": 3
   },
   "file_extension": ".py",
   "mimetype": "text/x-python",
   "name": "python",
   "nbconvert_exporter": "python",
   "pygments_lexer": "ipython3",
   "version": "3.11.11"
  }
 },
 "nbformat": 4,
 "nbformat_minor": 2
}
