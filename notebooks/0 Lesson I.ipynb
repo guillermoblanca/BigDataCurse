{
 "cells": [
  {
   "cell_type": "markdown",
   "metadata": {
    "id": "5-DR64mxTDJq"
   },
   "source": [
    "# Introducción a Python 🐍\n",
    "\n",
    "Python es un lenguaje de programación conocido por su simplicidad y legibilidad.\n",
    "Fue creado por Guido van Rossum y lanzado por primera vez en **1991**. Python se usa ampliamente en diferentes\n",
    "campos como desarrollo web, **análisis de datos, inteligencia artificial, automatización de tareas,** y mucho más.\n",
    "\n",
    "Características principales de Python:\n",
    "- Sintaxis simple y fácil de aprender (es como el inglés de los lenguajes de programación)\n",
    "- Gran biblioteca estándar y un ecosistema rico de paquetes de terceros.\n",
    "- Portabilidad entre diferentes sistemas operativos.\n",
    "- Amplio uso en comunidades científicas y de análisis de datos.\n",
    "\n",
    "A continuación, veremos algunos conceptos básicos de Python."
   ]
  },
  {
   "cell_type": "markdown",
   "metadata": {
    "id": "Apg40UNvTKY2"
   },
   "source": [
    "## 1. Hello, World! 👋\n",
    "\n",
    "¡Nuestro primer Programa! Vamos a mostrar por pantalla un texto: \"Hello, World!\""
   ]
  },
  {
   "cell_type": "code",
   "execution_count": 1,
   "metadata": {
    "colab": {
     "base_uri": "https://localhost:8080/"
    },
    "id": "nYYmVBhyT0Re",
    "outputId": "1ec48a7b-204a-4ccc-f2fc-d861f3ba422e"
   },
   "outputs": [
    {
     "name": "stdout",
     "output_type": "stream",
     "text": [
      "Hello, World!\n"
     ]
    }
   ],
   "source": [
    "print(\"Hello, World!\")"
   ]
  },
  {
   "cell_type": "markdown",
   "metadata": {
    "id": "Svsc8fRIT46h"
   },
   "source": [
    "## 2. Variables 📦\n",
    "\n",
    "Las variables son \"cajitas\" donde \"guardar\" algún dato, como un número o un texto."
   ]
  },
  {
   "cell_type": "code",
   "execution_count": 2,
   "metadata": {
    "colab": {
     "base_uri": "https://localhost:8080/"
    },
    "id": "aymyThZGgpq-",
    "outputId": "9cc15e16-fd4c-464d-d8aa-41a6553d5653"
   },
   "outputs": [
    {
     "data": {
      "text/plain": [
       "10"
      ]
     },
     "execution_count": 2,
     "metadata": {},
     "output_type": "execute_result"
    }
   ],
   "source": [
    "a = 1\n",
    "b = 3\n",
    "b + b + b + a"
   ]
  },
  {
   "cell_type": "markdown",
   "metadata": {
    "id": "eAySARJgUEMD"
   },
   "source": [
    "## 3. Tipos de Datos 🔣\n",
    "\n",
    "Los \"tipos de dato\" son las **distintas formas que puede tomar la información**. En programación existen muchos tipos de datos distintos: **números, texto, listas**... vamos a explorar algunos de los más importantes."
   ]
  },
  {
   "cell_type": "markdown",
   "metadata": {
    "id": "l7ozKyMQUHmL"
   },
   "source": [
    "### 3.1 Booleans\n",
    "\n",
    "Que no te asuste su nombre de extraterrestre 👽, es el más simple de todos: su valor sólo puede ser verdad (**True**) o mentira (**False**)."
   ]
  },
  {
   "cell_type": "code",
   "execution_count": 3,
   "metadata": {
    "id": "UJcPNnsvVN4o"
   },
   "outputs": [],
   "source": [
    "a = False\n",
    "b = True"
   ]
  },
  {
   "cell_type": "markdown",
   "metadata": {
    "id": "jhYOE7NtULgt"
   },
   "source": [
    "### 3.2 Integers\n",
    "\n",
    "Sencillo: son **números enteros**: 1, 2, -5, 3742638... Es decir: **sin decimales**."
   ]
  },
  {
   "cell_type": "code",
   "execution_count": 4,
   "metadata": {
    "colab": {
     "base_uri": "https://localhost:8080/"
    },
    "id": "OHq92pYfVOXC",
    "outputId": "f2214a55-07df-4d3e-f724-4bd175e7cf05"
   },
   "outputs": [
    {
     "data": {
      "text/plain": [
       "3"
      ]
     },
     "execution_count": 4,
     "metadata": {},
     "output_type": "execute_result"
    }
   ],
   "source": [
    "a = 1\n",
    "b = 2\n",
    "c = a + b\n",
    "c"
   ]
  },
  {
   "cell_type": "markdown",
   "metadata": {
    "id": "M-JisyeHUTUg"
   },
   "source": [
    "### 3.3 Floats\n",
    "\n",
    "Fácil también: si un integer es un número entero, **un float es un número decimal**: 0.4, 3.14, -6,87, 0,0000000001..."
   ]
  },
  {
   "cell_type": "code",
   "execution_count": 5,
   "metadata": {
    "colab": {
     "base_uri": "https://localhost:8080/"
    },
    "id": "rhvp9veDVPeb",
    "outputId": "9da016fc-47b9-4e9f-cecb-ac4ec0e73a83"
   },
   "outputs": [
    {
     "data": {
      "text/plain": [
       "2.47"
      ]
     },
     "execution_count": 5,
     "metadata": {},
     "output_type": "execute_result"
    }
   ],
   "source": [
    "a = 3.1\n",
    "b = -0.63\n",
    "c = a + b\n",
    "c"
   ]
  },
  {
   "cell_type": "markdown",
   "metadata": {
    "id": "D5OdPu4xUY--"
   },
   "source": [
    "### 3.4 Strings\n",
    "\n",
    "Esta la has visto antes: \"Hello, World!\" es un dato de tipo string. Un string **no es más que texto** o \"cadena\" de texto."
   ]
  },
  {
   "cell_type": "code",
   "execution_count": 6,
   "metadata": {
    "colab": {
     "base_uri": "https://localhost:8080/",
     "height": 35
    },
    "id": "5DQUfCMcVP0d",
    "outputId": "2c1084fc-45ce-47d6-96d6-c4797bda3f0d"
   },
   "outputs": [
    {
     "data": {
      "application/vnd.google.colaboratory.intrinsic+json": {
       "type": "string"
      },
      "text/plain": [
       "'Hola Kim'"
      ]
     },
     "execution_count": 6,
     "metadata": {},
     "output_type": "execute_result"
    }
   ],
   "source": [
    "greet = \"Hola\"\n",
    "my_name = 'Kim'\n",
    "\n",
    "full_greet = greet + \" \" + my_name\n",
    "full_greet"
   ]
  },
  {
   "cell_type": "markdown",
   "metadata": {
    "id": "W7MEUTmVUeTa"
   },
   "source": [
    "### 3.5 Lists\n",
    "\n",
    "Una lista es **una secuencia de otros datos**. Dichos datos están ordenados, como la cola de un supermercado."
   ]
  },
  {
   "cell_type": "code",
   "execution_count": 7,
   "metadata": {
    "colab": {
     "base_uri": "https://localhost:8080/"
    },
    "id": "T_69X_AI4mom",
    "outputId": "e359cac9-5165-4681-911c-2509d9200367"
   },
   "outputs": [
    {
     "data": {
      "text/plain": [
       "[0, 1, 2, 3, 3.14, 'hola']"
      ]
     },
     "execution_count": 7,
     "metadata": {},
     "output_type": "execute_result"
    }
   ],
   "source": [
    "my_list_full = [0, 1, 2, 3, 3.14, \"hola\"]\n",
    "my_list_full"
   ]
  },
  {
   "cell_type": "code",
   "execution_count": 8,
   "metadata": {
    "colab": {
     "base_uri": "https://localhost:8080/"
    },
    "id": "5tpS5GOZVQS8",
    "outputId": "41b38932-28b5-4ba8-bca3-b6ebb1d579e6"
   },
   "outputs": [
    {
     "data": {
      "text/plain": [
       "[0, 1, 2, 3, 3.14]"
      ]
     },
     "execution_count": 8,
     "metadata": {},
     "output_type": "execute_result"
    }
   ],
   "source": [
    "my_list_full.pop()\n",
    "my_list_full"
   ]
  },
  {
   "cell_type": "code",
   "execution_count": 9,
   "metadata": {
    "colab": {
     "base_uri": "https://localhost:8080/"
    },
    "id": "z8wBRUvaNURc",
    "outputId": "c695d33c-5821-440b-bc37-8b62d4b108e9"
   },
   "outputs": [
    {
     "data": {
      "text/plain": [
       "[0, 1, 2, 3, 3.14, 'adios']"
      ]
     },
     "execution_count": 9,
     "metadata": {},
     "output_type": "execute_result"
    }
   ],
   "source": [
    "my_list_full.append(\"adios\")\n",
    "my_list_full"
   ]
  },
  {
   "cell_type": "code",
   "execution_count": 10,
   "metadata": {
    "colab": {
     "base_uri": "https://localhost:8080/"
    },
    "id": "CH02V8jL9qdH",
    "outputId": "c7b55e3a-c072-4038-e87e-3bb7dd91aa74"
   },
   "outputs": [
    {
     "data": {
      "text/plain": [
       "0"
      ]
     },
     "execution_count": 10,
     "metadata": {},
     "output_type": "execute_result"
    }
   ],
   "source": [
    "my_list_full[0]"
   ]
  },
  {
   "cell_type": "code",
   "execution_count": 11,
   "metadata": {
    "colab": {
     "base_uri": "https://localhost:8080/"
    },
    "id": "2gBoLasPNOl_",
    "outputId": "c5336098-b675-4b10-e985-30020cbb3729"
   },
   "outputs": [
    {
     "data": {
      "text/plain": [
       "[2, 3]"
      ]
     },
     "execution_count": 11,
     "metadata": {},
     "output_type": "execute_result"
    }
   ],
   "source": [
    "my_list_full[2:4]"
   ]
  },
  {
   "cell_type": "markdown",
   "metadata": {
    "id": "HbMgnIziUoPz"
   },
   "source": [
    "### 3.6 Dictionaries\n",
    "\n",
    "Piensa, ¿qué es un diccionario? No es más que **un cojunto de parejas**: una palabra y su definición. Bueno, pues un diccionario es un tipo de dato que alberga **\"claves\" y \"valores\"**. Algo así como una agenda telefónica: \"nombre\" y \"teléfono. Veámoslo en la práctica para entenderlo bien."
   ]
  },
  {
   "cell_type": "code",
   "execution_count": 12,
   "metadata": {
    "id": "_gWxHeGdVQt7"
   },
   "outputs": [],
   "source": [
    "my_dict = {\n",
    "  \"Mate\": 3,\n",
    "  \"Dani\": 4,\n",
    "  \"Kim\": 0.1,\n",
    "}"
   ]
  },
  {
   "cell_type": "markdown",
   "metadata": {
    "id": "SjZAPLj8gCKw"
   },
   "source": [
    "### 3.7 El tipo nulo: None\n",
    "\n",
    "Simboliza la **ausencia de un dato**. Imagínate que tienes datos de muchos pacientes, pero de algunos de ellos/as no tienes la edad. ¿Cómo lo representas? En python se utiliza None, y es muy muy común en análisis de datos."
   ]
  },
  {
   "cell_type": "code",
   "execution_count": 13,
   "metadata": {
    "id": "VUDKJpKugeVV"
   },
   "outputs": [],
   "source": [
    "None"
   ]
  },
  {
   "cell_type": "markdown",
   "metadata": {
    "id": "cHtrs3_VU3jj"
   },
   "source": [
    "## 4. Condicionales ➡️\n",
    "\n",
    "Los condicionales son fórmulas que guían la lógica de nuestro código. Dichas fórmulas son del estilo: **\"si sucede tal, haz cual y si no sucede, haz esto otro\"**. Usamos sus equivalentes en inglés: \"if <> else <>\". ¿Te acuerdas de los booleanos 👽? bueno, pues detras de un if siempre va a haber un booleano: \"if True, then...\""
   ]
  },
  {
   "cell_type": "code",
   "execution_count": 14,
   "metadata": {
    "colab": {
     "base_uri": "https://localhost:8080/"
    },
    "id": "NGmctSkEVRSt",
    "outputId": "51d460e2-8b01-4582-8ff3-39487c149a98"
   },
   "outputs": [
    {
     "data": {
      "text/plain": [
       "False"
      ]
     },
     "execution_count": 14,
     "metadata": {},
     "output_type": "execute_result"
    }
   ],
   "source": [
    "mayoria_de_edad = 18\n",
    "mi_edad = 16\n",
    "\n",
    "soy_mayor_de_edad = mi_edad >= mayoria_de_edad\n",
    "soy_mayor_de_edad"
   ]
  },
  {
   "cell_type": "code",
   "execution_count": 15,
   "metadata": {
    "colab": {
     "base_uri": "https://localhost:8080/"
    },
    "id": "kSiXOoM1_GP2",
    "outputId": "fa4dfa8f-b3f0-4ca6-d231-629cb68602e0"
   },
   "outputs": [
    {
     "name": "stdout",
     "output_type": "stream",
     "text": [
      "No puedo conducir\n"
     ]
    }
   ],
   "source": [
    "if soy_mayor_de_edad:\n",
    "  print(\"puedo conducir\")\n",
    "else:\n",
    "  print(\"No puedo conducir\")"
   ]
  },
  {
   "cell_type": "markdown",
   "metadata": {
    "id": "yIsEB5I8U831"
   },
   "source": [
    "## 5. Bucles (loops) 🔄\n",
    "\n",
    "Los bucles nos permiten realizar la misma operación múltiples veces. Existen varios tipos:\n",
    "\n",
    "- Los \"for loops\": se utilizan para iterar sobre una secuencia (como una lista, un diccionario...).\n",
    "  Cada elemento de la secuencia se procesa en cada iteración del bucle.\n",
    "\n",
    "- Los \"while loops\":\n",
    "  Se utilizan para repetir un bloque de código mientras una condición sea verdadera.\n",
    "  Es importante asegurarse de que la condición eventualmente se vuelva falsa para evitar bucles infinitos."
   ]
  },
  {
   "cell_type": "code",
   "execution_count": 16,
   "metadata": {
    "colab": {
     "base_uri": "https://localhost:8080/"
    },
    "id": "tJCWA8ApWeRW",
    "outputId": "0944c7c7-4b9d-4abb-eb34-f67c86e402e7"
   },
   "outputs": [
    {
     "name": "stdout",
     "output_type": "stream",
     "text": [
      "Le toca al ticket 0\n",
      "Le toca al ticket 1\n",
      "Le toca al ticket 2\n",
      "Le toca al ticket 3\n",
      "Le toca al ticket 4\n"
     ]
    }
   ],
   "source": [
    "tickets_carniceria = [0,1,2,3,4]\n",
    "for ticket in tickets_carniceria:\n",
    "  print(\"Le toca al ticket \" + str(ticket))"
   ]
  },
  {
   "cell_type": "code",
   "execution_count": 17,
   "metadata": {
    "colab": {
     "base_uri": "https://localhost:8080/"
    },
    "id": "ixT8WngnBsOq",
    "outputId": "f4885077-6c8f-4674-ff83-da9848a074a9"
   },
   "outputs": [
    {
     "name": "stdout",
     "output_type": "stream",
     "text": [
      "La nota de Mate es 3\n",
      "La nota de Dani es 4\n",
      "La nota de Kim es 0.1\n"
     ]
    }
   ],
   "source": [
    "for name in my_dict:\n",
    "  nota = my_dict[name]\n",
    "  print(\"La nota de \" + name + \" es \" + str(nota))"
   ]
  },
  {
   "cell_type": "code",
   "execution_count": 1,
   "metadata": {
    "colab": {
     "base_uri": "https://localhost:8080/"
    },
    "id": "FYJVBbHfCNZF",
    "outputId": "f22fb6af-990b-453a-cd98-e3684ec21dd9"
   },
   "outputs": [
    {
     "name": "stdout",
     "output_type": "stream",
     "text": [
      "ahora tengo 1 años\n",
      "ahora tengo 2 años\n",
      "ahora tengo 3 años\n",
      "ahora tengo 4 años\n",
      "ahora tengo 5 años\n",
      "ahora tengo 6 años\n",
      "ahora tengo 7 años\n",
      "ahora tengo 8 años\n",
      "ahora tengo 9 años\n",
      "ahora tengo 10 años\n",
      "ahora tengo 11 años\n",
      "ahora tengo 12 años\n",
      "ahora tengo 13 años\n",
      "ahora tengo 14 años\n",
      "ahora tengo 15 años\n",
      "ahora tengo 16 años\n",
      "ahora tengo 17 años\n",
      "ahora tengo 18 años\n"
     ]
    }
   ],
   "source": [
    "age = 0\n",
    "less_than_18 = True\n",
    "while less_than_18:\n",
    "  age = age + 1\n",
    "  print(\"ahora tengo \" + str(age) + \" años\")\n",
    "  less_than_18 = age < 18"
   ]
  },
  {
   "cell_type": "markdown",
   "metadata": {
    "id": "_ythAI1sVCQ1"
   },
   "source": [
    "## 6. Funciones ⚙️\n",
    "\n",
    "Una función es un **pedazo de código que realiza una tarea específica** y puede ser reutilizado. Esa capacidad de reusabilidad hace que las funciones sean importantísimas, están por todos los lados, tanto, que en python 🐍 se les considera \"first class citizens\". Veámoslo con un ejemplo:"
   ]
  },
  {
   "cell_type": "code",
   "execution_count": 19,
   "metadata": {
    "id": "XLgz_tZRWesf"
   },
   "outputs": [],
   "source": [
    "def agradecer():\n",
    "  print(\"Gracias clase por dejarme ser vuestro profe\")"
   ]
  },
  {
   "cell_type": "code",
   "execution_count": 20,
   "metadata": {
    "colab": {
     "base_uri": "https://localhost:8080/"
    },
    "id": "qAXBw48BES_a",
    "outputId": "b04e96c9-6bce-4ea8-da20-f22b9ed4664b"
   },
   "outputs": [
    {
     "name": "stdout",
     "output_type": "stream",
     "text": [
      "Gracias clase por dejarme ser vuestro profe\n",
      "Gracias clase por dejarme ser vuestro profe\n"
     ]
    }
   ],
   "source": [
    "agradecer()\n",
    "agradecer()"
   ]
  },
  {
   "cell_type": "markdown",
   "metadata": {
    "id": "TMEOMvUlVo9V"
   },
   "source": [
    "## 7. Librerías de Python 📚\n",
    "\n",
    "Una librería en Python 🐍 es un **conjunto de funciones y herramientas** predefinidas que puedes usar **para hacer tu trabajo más fácil**.\n",
    "Es como una caja de herramientas que ya tiene muchas cosas útiles listas para usar. Python tiene un montón 🎉, es uno de los motivos por los que está tan extendido! 😀"
   ]
  },
  {
   "cell_type": "code",
   "execution_count": 21,
   "metadata": {
    "colab": {
     "base_uri": "https://localhost:8080/"
    },
    "id": "WU_AuWGrWfJk",
    "outputId": "08db1580-6034-442f-979f-815f1947f02d"
   },
   "outputs": [
    {
     "data": {
      "text/plain": [
       "3.1622776601683795"
      ]
     },
     "execution_count": 21,
     "metadata": {},
     "output_type": "execute_result"
    }
   ],
   "source": [
    "import math\n",
    "\n",
    "math.sqrt(10)"
   ]
  },
  {
   "cell_type": "code",
   "execution_count": 22,
   "metadata": {
    "colab": {
     "base_uri": "https://localhost:8080/"
    },
    "id": "rPAK29-nF7Gt",
    "outputId": "6a41aa57-8424-4083-92b6-f6a6076cf258"
   },
   "outputs": [
    {
     "data": {
      "text/plain": [
       "3"
      ]
     },
     "execution_count": 22,
     "metadata": {},
     "output_type": "execute_result"
    }
   ],
   "source": [
    "import random\n",
    "\n",
    "random.randint(0, 10)"
   ]
  },
  {
   "cell_type": "markdown",
   "metadata": {
    "id": "qAdgeCSqVGk7"
   },
   "source": [
    "## 8. Clases 🧑\n",
    "\n",
    "Una clase es una manera de **organizar y agrupar datos y funciones relacionadas**. Por ejemplo: tú eres de la clase \"Persona\", tienes una serie de características (datos) como tu nombre, tu edad... y tienes una serie de funciones relacionadas, como por ejemplo \"dar la mano\" o \"saludar\"."
   ]
  },
  {
   "cell_type": "code",
   "execution_count": null,
   "metadata": {
    "colab": {
     "base_uri": "https://localhost:8080/"
    },
    "id": "hdeRWMHGWfql",
    "outputId": "aa017736-f63b-4347-f891-ea405d1d3288"
   },
   "outputs": [
    {
     "name": "stdout",
     "output_type": "stream",
     "text": [
      "Hola me llamo Andres y tengo 18 años\n",
      "Hola me llamo Kim y tengo 17 años\n"
     ]
    }
   ],
   "source": [
    "class Person:\n",
    "\n",
    "  def __init__(self, name, age):\n",
    "    self.name = name\n",
    "    self.age = age\n",
    "\n",
    "  def presentar(self):\n",
    "    print(\"Hola me llamo \" + self.name + \" y tengo \" + str(self.age) + \" años\")\n",
    "\n",
    "\n",
    "my_person = Person(name=\"Andres\", age=18)\n",
    "my_person.presentar()\n",
    "my_person = Person(name=\"Kim\", age=17)\n",
    "my_person.presentar()"
   ]
  },
  {
   "cell_type": "markdown",
   "metadata": {
    "id": "tMZr1Pd-4VDu"
   },
   "source": [
    "## 9. Bonus: ¡Hagamos un juego! 🥳\n",
    "\n",
    "Vamos a programar un juego llamado \"¡Adivina el número!\""
   ]
  },
  {
   "cell_type": "code",
   "execution_count": 4,
   "metadata": {
    "colab": {
     "base_uri": "https://localhost:8080/"
    },
    "id": "2QBFFLPO4FO1",
    "outputId": "d6d6166f-2846-452a-c190-408b65562a06"
   },
   "outputs": [
    {
     "name": "stdout",
     "output_type": "stream",
     "text": [
      "your number is higher\n"
     ]
    }
   ],
   "source": [
    "import random\n",
    "\n",
    "number_to_guess = random.randint(0, 10)  # la máquina elige un número del 0 al 10\n",
    "my_number = input(\"Dime un número:\")  # yo elijo un número cualquiera\n",
    "my_number = int(my_number)\n",
    "\n",
    "def play():\n",
    "\n",
    "  is_my_number_higher = my_number > number_to_guess\n",
    "  is_my_number_lower = my_number < number_to_guess\n",
    "\n",
    "  if is_my_number_higher:\n",
    "    print(\"your number is higher\")\n",
    "  elif is_my_number_lower:\n",
    "    print(\"your number is lower\")\n",
    "  else:\n",
    "    print(\"CONGRATS! YOU WON!\")\n",
    "\n",
    "\n",
    "play()  # A jugar!"
   ]
  },
  {
   "cell_type": "markdown",
   "metadata": {
    "id": "FQFnJkjfibmn"
   },
   "source": [
    "Si has llegado hasta aquí ¡enhorabuena! Es tu primer pasito, recuerda que la clave es la **constancia** 💪. Apóyate en todo lo que puedas: Youtube, Google, ChatGPT, algún libro incluso... Pero sin olvidar que **la mejor forma de aprender es practicando.**\n",
    "\n",
    "Te lanzo un reto: ¿Serías capaz de programar un Piedra 🪨, Papel 🧻, o Tijera ✂?"
   ]
  }
 ],
 "metadata": {
  "colab": {
   "provenance": []
  },
  "kernelspec": {
   "display_name": "research_env",
   "language": "python",
   "name": "python3"
  },
  "language_info": {
   "codemirror_mode": {
    "name": "ipython",
    "version": 3
   },
   "file_extension": ".py",
   "mimetype": "text/x-python",
   "name": "python",
   "nbconvert_exporter": "python",
   "pygments_lexer": "ipython3",
   "version": "3.11.11"
  }
 },
 "nbformat": 4,
 "nbformat_minor": 0
}
